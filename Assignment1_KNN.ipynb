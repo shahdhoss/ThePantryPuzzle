{
  "nbformat": 4,
  "nbformat_minor": 0,
  "metadata": {
    "colab": {
      "provenance": [],
      "authorship_tag": "ABX9TyNKVUCxC2AiFcYieAqvlZVZ",
      "include_colab_link": true
    },
    "kernelspec": {
      "name": "python3",
      "display_name": "Python 3"
    },
    "language_info": {
      "name": "python"
    }
  },
  "cells": [
    {
      "cell_type": "markdown",
      "metadata": {
        "id": "view-in-github",
        "colab_type": "text"
      },
      "source": [
        "<a href=\"https://colab.research.google.com/github/shahdhoss/ThePantryPuzzle/blob/main/Assignment1_KNN.ipynb\" target=\"_parent\"><img src=\"https://colab.research.google.com/assets/colab-badge.svg\" alt=\"Open In Colab\"/></a>"
      ]
    },
    {
      "cell_type": "code",
      "execution_count": 1,
      "metadata": {
        "id": "X3ldG2L8NVdB"
      },
      "outputs": [],
      "source": [
        "import pandas as pd\n",
        "import numpy as np\n",
        "import seaborn as sns\n",
        "import matplotlib.pyplot as plt\n",
        "from collections import Counter\n",
        "from sklearn.metrics import accuracy_score\n",
        "from sklearn.neighbors import KNeighborsClassifier\n",
        "from sklearn.model_selection import train_test_split"
      ]
    },
    {
      "cell_type": "code",
      "source": [
        "iris_df= pd.read_csv(\"/content/sample_data/Iris.csv\")\n",
        "\n",
        "iris_df.drop(columns=[\"Id\"],inplace=True)\n",
        "x=iris_df.iloc[:,:-1]\n",
        "y=iris_df.iloc[:,-1]\n",
        "x_train,x_test,y_train,y_test = train_test_split(x,y,test_size=0.2, shuffle=True)"
      ],
      "metadata": {
        "id": "MzO8RczFN9UD",
        "colab": {
          "base_uri": "https://localhost:8080/"
        },
        "outputId": "50a1c02d-fd90-41ec-fb8d-36162ca18711"
      },
      "execution_count": 27,
      "outputs": [
        {
          "output_type": "stream",
          "name": "stdout",
          "text": [
            "     SepalLengthCm  SepalWidthCm  PetalLengthCm  PetalWidthCm\n",
            "0              5.1           3.5            1.4           0.2\n",
            "1              4.9           3.0            1.4           0.2\n",
            "2              4.7           3.2            1.3           0.2\n",
            "3              4.6           3.1            1.5           0.2\n",
            "4              5.0           3.6            1.4           0.2\n",
            "..             ...           ...            ...           ...\n",
            "145            6.7           3.0            5.2           2.3\n",
            "146            6.3           2.5            5.0           1.9\n",
            "147            6.5           3.0            5.2           2.0\n",
            "148            6.2           3.4            5.4           2.3\n",
            "149            5.9           3.0            5.1           1.8\n",
            "\n",
            "[150 rows x 4 columns]\n"
          ]
        }
      ]
    },
    {
      "cell_type": "code",
      "source": [
        "x_train = np.asarray(x_train)\n",
        "x_test = np.asarray(x_test)\n",
        "y_train = np.asarray(y_train)\n",
        "y_test = np.asarray(y_test)\n",
        "# print(x_train)\n",
        "# print(y_train)"
      ],
      "metadata": {
        "id": "VQNw5Bc1PUNr"
      },
      "execution_count": 28,
      "outputs": []
    },
    {
      "cell_type": "code",
      "source": [
        "def distance(x_train, test_point):\n",
        "  distances=[]\n",
        "  for i in range(len(x_train)):\n",
        "    current_distance=0\n",
        "    for j in range(len(x_train[i])):\n",
        "      current_distance=current_distance + abs(test_point[j]-x_train[i][j])\n",
        "    distances.append(current_distance)\n",
        "  distance_df= pd.DataFrame(data=distances, columns=['distance'])\n",
        "  return distance_df\n",
        "print(distance(x_train,x_train[0]))"
      ],
      "metadata": {
        "id": "NkAavuTdQPAQ",
        "colab": {
          "base_uri": "https://localhost:8080/"
        },
        "outputId": "41ca739f-5c8b-4828-8730-e80c2b854767"
      },
      "execution_count": 29,
      "outputs": [
        {
          "output_type": "stream",
          "name": "stdout",
          "text": [
            "     distance\n",
            "0         0.0\n",
            "1         5.3\n",
            "2         6.4\n",
            "3         1.1\n",
            "4         0.6\n",
            "..        ...\n",
            "115       1.1\n",
            "116       2.4\n",
            "117       8.6\n",
            "118       6.4\n",
            "119       5.6\n",
            "\n",
            "[120 rows x 1 columns]\n"
          ]
        }
      ]
    },
    {
      "cell_type": "code",
      "source": [
        "def nearest_points(distances, K):\n",
        "  distances= distances.sort_values(by=['distance'])\n",
        "  return distances.head(K)\n",
        "\n",
        "distances=distance(x_train, x_train[0])\n",
        "print(nearest_points(distances,7))"
      ],
      "metadata": {
        "id": "NqmjMmK3RZcU",
        "colab": {
          "base_uri": "https://localhost:8080/"
        },
        "outputId": "d9397761-9139-4fff-aac5-45c09ca35f2c"
      },
      "execution_count": 30,
      "outputs": [
        {
          "output_type": "stream",
          "name": "stdout",
          "text": [
            "     distance\n",
            "0         0.0\n",
            "27        0.4\n",
            "110       0.5\n",
            "14        0.5\n",
            "40        0.6\n",
            "4         0.6\n",
            "50        0.6\n"
          ]
        }
      ]
    },
    {
      "cell_type": "code",
      "source": [
        "def voting(nearest_points,y_train):\n",
        "  counter_vote = Counter(y_train[nearest_points.index])\n",
        "  y_pred = counter_vote.most_common()[0][0]\n",
        "  return y_pred\n",
        "\n",
        "distances=distance(x_train, x_train[0])\n",
        "nearp=nearest_points(distances,3)\n",
        "print(voting(nearp,y_train))"
      ],
      "metadata": {
        "id": "zwuPFDpETmLc",
        "colab": {
          "base_uri": "https://localhost:8080/"
        },
        "outputId": "5c42972b-e7c1-44c0-8782-09d56db36ec1"
      },
      "execution_count": 31,
      "outputs": [
        {
          "output_type": "stream",
          "name": "stdout",
          "text": [
            "Iris-setosa\n"
          ]
        }
      ]
    },
    {
      "cell_type": "code",
      "source": [
        "def knn_all(x_train,y_train,x_test,K):\n",
        "  predictions=[]\n",
        "  for i in x_test:\n",
        "    distances=distance(x_train,i)\n",
        "    near_points=nearest_points(distances, K)\n",
        "    predictions.append(voting(near_points,y_train))\n",
        "  return predictions\n",
        "\n",
        "# with unnormalized data\n",
        "print(\"un-normailzed, at k=3\")\n",
        "model1=knn_all(x_train,y_train,x_test,3)\n",
        "print(model1)\n",
        "print(\"un-normailzed, at k=5\")\n",
        "print(knn_all(x_train,y_train,x_test,5))\n",
        "print(\"un-normailzed, at k=7\")\n",
        "print(knn_all(x_train,y_train,x_test,7))"
      ],
      "metadata": {
        "colab": {
          "base_uri": "https://localhost:8080/"
        },
        "id": "xNpSSD6LU3Na",
        "outputId": "5f19f00a-dd86-4db6-a116-6465e6e28812"
      },
      "execution_count": 40,
      "outputs": [
        {
          "output_type": "stream",
          "name": "stdout",
          "text": [
            "un-normailzed, at k=3\n",
            "['Iris-virginica', 'Iris-virginica', 'Iris-virginica', 'Iris-virginica', 'Iris-versicolor', 'Iris-versicolor', 'Iris-setosa', 'Iris-setosa', 'Iris-virginica', 'Iris-virginica', 'Iris-virginica', 'Iris-versicolor', 'Iris-versicolor', 'Iris-setosa', 'Iris-setosa', 'Iris-versicolor', 'Iris-virginica', 'Iris-virginica', 'Iris-setosa', 'Iris-versicolor', 'Iris-virginica', 'Iris-versicolor', 'Iris-versicolor', 'Iris-virginica', 'Iris-versicolor', 'Iris-setosa', 'Iris-setosa', 'Iris-setosa', 'Iris-versicolor', 'Iris-setosa']\n",
            "un-normailzed, at k=5\n",
            "['Iris-virginica', 'Iris-virginica', 'Iris-virginica', 'Iris-virginica', 'Iris-versicolor', 'Iris-versicolor', 'Iris-setosa', 'Iris-setosa', 'Iris-virginica', 'Iris-virginica', 'Iris-virginica', 'Iris-versicolor', 'Iris-versicolor', 'Iris-setosa', 'Iris-setosa', 'Iris-versicolor', 'Iris-virginica', 'Iris-virginica', 'Iris-setosa', 'Iris-versicolor', 'Iris-virginica', 'Iris-versicolor', 'Iris-versicolor', 'Iris-virginica', 'Iris-versicolor', 'Iris-setosa', 'Iris-setosa', 'Iris-setosa', 'Iris-virginica', 'Iris-setosa']\n",
            "un-normailzed, at k=7\n",
            "['Iris-virginica', 'Iris-virginica', 'Iris-virginica', 'Iris-virginica', 'Iris-versicolor', 'Iris-versicolor', 'Iris-setosa', 'Iris-setosa', 'Iris-virginica', 'Iris-virginica', 'Iris-virginica', 'Iris-versicolor', 'Iris-versicolor', 'Iris-setosa', 'Iris-setosa', 'Iris-versicolor', 'Iris-virginica', 'Iris-virginica', 'Iris-setosa', 'Iris-versicolor', 'Iris-virginica', 'Iris-versicolor', 'Iris-versicolor', 'Iris-virginica', 'Iris-versicolor', 'Iris-setosa', 'Iris-setosa', 'Iris-setosa', 'Iris-versicolor', 'Iris-setosa']\n"
          ]
        }
      ]
    },
    {
      "cell_type": "code",
      "source": [
        "# with normalized data\n",
        "from sklearn.preprocessing import Normalizer\n",
        "scaler= Normalizer()\n",
        "normalize_x_train=scaler.transform(x_train)\n",
        "normalize_x_test=scaler.transform(x_test)\n"
      ],
      "metadata": {
        "id": "c5fajOcgW1CG"
      },
      "execution_count": 37,
      "outputs": []
    },
    {
      "cell_type": "code",
      "source": [
        "print(\"normailzed, at k=3\")\n",
        "model2=knn_all(normalize_x_train,y_train,normalize_x_test,3)\n",
        "print(model2)\n",
        "print(\"normailzed, at k=5\")\n",
        "print(knn_all(normalize_x_train,y_train,normalize_x_test,5))\n",
        "print(\"normailzed, at k=7\")\n",
        "print(knn_all(normalize_x_train,y_train,normalize_x_test,7))"
      ],
      "metadata": {
        "colab": {
          "base_uri": "https://localhost:8080/"
        },
        "id": "9uAOSYnlbnbD",
        "outputId": "7d582477-a3cc-4f61-b670-a8f7aebc94a6"
      },
      "execution_count": 38,
      "outputs": [
        {
          "output_type": "stream",
          "name": "stdout",
          "text": [
            "normailzed, at k=3\n",
            "['Iris-virginica', 'Iris-virginica', 'Iris-virginica', 'Iris-virginica', 'Iris-versicolor', 'Iris-versicolor', 'Iris-setosa', 'Iris-setosa', 'Iris-virginica', 'Iris-virginica', 'Iris-virginica', 'Iris-versicolor', 'Iris-versicolor', 'Iris-setosa', 'Iris-setosa', 'Iris-versicolor', 'Iris-virginica', 'Iris-virginica', 'Iris-setosa', 'Iris-versicolor', 'Iris-virginica', 'Iris-versicolor', 'Iris-versicolor', 'Iris-virginica', 'Iris-versicolor', 'Iris-setosa', 'Iris-setosa', 'Iris-setosa', 'Iris-virginica', 'Iris-setosa']\n",
            "normailzed, at k=5\n",
            "['Iris-virginica', 'Iris-virginica', 'Iris-virginica', 'Iris-virginica', 'Iris-versicolor', 'Iris-versicolor', 'Iris-setosa', 'Iris-setosa', 'Iris-virginica', 'Iris-virginica', 'Iris-virginica', 'Iris-versicolor', 'Iris-versicolor', 'Iris-setosa', 'Iris-setosa', 'Iris-versicolor', 'Iris-virginica', 'Iris-virginica', 'Iris-setosa', 'Iris-versicolor', 'Iris-virginica', 'Iris-versicolor', 'Iris-versicolor', 'Iris-virginica', 'Iris-versicolor', 'Iris-setosa', 'Iris-setosa', 'Iris-setosa', 'Iris-virginica', 'Iris-setosa']\n",
            "normailzed, at k=7\n",
            "['Iris-virginica', 'Iris-virginica', 'Iris-virginica', 'Iris-virginica', 'Iris-versicolor', 'Iris-versicolor', 'Iris-setosa', 'Iris-setosa', 'Iris-virginica', 'Iris-virginica', 'Iris-virginica', 'Iris-versicolor', 'Iris-versicolor', 'Iris-setosa', 'Iris-setosa', 'Iris-versicolor', 'Iris-virginica', 'Iris-virginica', 'Iris-setosa', 'Iris-versicolor', 'Iris-virginica', 'Iris-versicolor', 'Iris-versicolor', 'Iris-virginica', 'Iris-versicolor', 'Iris-setosa', 'Iris-setosa', 'Iris-setosa', 'Iris-virginica', 'Iris-setosa']\n"
          ]
        }
      ]
    },
    {
      "cell_type": "code",
      "source": [
        "# accuracy\n",
        "print(y_test)\n",
        "print(model1)\n",
        "print(\"accuracy in un-normalized =\", accuracy_score(y_test,model1))\n",
        "print(\"accuracy in normalized =\", accuracy_score(y_test,model2))"
      ],
      "metadata": {
        "colab": {
          "base_uri": "https://localhost:8080/"
        },
        "id": "6jFaOj2qcVyz",
        "outputId": "4e58d56c-fd8d-4be5-eee3-4536b31b6387"
      },
      "execution_count": 39,
      "outputs": [
        {
          "output_type": "stream",
          "name": "stdout",
          "text": [
            "['Iris-virginica' 'Iris-virginica' 'Iris-virginica' 'Iris-virginica'\n",
            " 'Iris-versicolor' 'Iris-versicolor' 'Iris-setosa' 'Iris-setosa'\n",
            " 'Iris-versicolor' 'Iris-virginica' 'Iris-virginica' 'Iris-versicolor'\n",
            " 'Iris-versicolor' 'Iris-setosa' 'Iris-setosa' 'Iris-versicolor'\n",
            " 'Iris-virginica' 'Iris-virginica' 'Iris-setosa' 'Iris-versicolor'\n",
            " 'Iris-virginica' 'Iris-versicolor' 'Iris-versicolor' 'Iris-virginica'\n",
            " 'Iris-versicolor' 'Iris-setosa' 'Iris-setosa' 'Iris-setosa'\n",
            " 'Iris-virginica' 'Iris-setosa']\n",
            "['Iris-virginica', 'Iris-virginica', 'Iris-virginica', 'Iris-virginica', 'Iris-versicolor', 'Iris-versicolor', 'Iris-setosa', 'Iris-setosa', 'Iris-virginica', 'Iris-virginica', 'Iris-virginica', 'Iris-versicolor', 'Iris-versicolor', 'Iris-setosa', 'Iris-setosa', 'Iris-versicolor', 'Iris-virginica', 'Iris-virginica', 'Iris-setosa', 'Iris-versicolor', 'Iris-virginica', 'Iris-versicolor', 'Iris-versicolor', 'Iris-virginica', 'Iris-versicolor', 'Iris-setosa', 'Iris-setosa', 'Iris-setosa', 'Iris-versicolor', 'Iris-setosa']\n",
            "accuracy in un-normalized = 0.9333333333333333\n",
            "accuracy in normalized = 0.9666666666666667\n"
          ]
        }
      ]
    }
  ]
}